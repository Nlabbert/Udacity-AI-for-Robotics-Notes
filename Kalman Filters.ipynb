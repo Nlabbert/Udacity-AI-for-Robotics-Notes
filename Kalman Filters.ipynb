{
 "cells": [
  {
   "cell_type": "markdown",
   "metadata": {},
   "source": [
    "## Tracking\n",
    "#### Kalman filter (continuous) and (uni-modal)\n",
    "\n",
    "#### Monte-carlo localization (discrete) and (multi-modal)\n",
    "\n",
    "#### Particle filters (continuous) and (multi-modal)"
   ]
  },
  {
   "cell_type": "markdown",
   "metadata": {},
   "source": [
    "Kalman filter approximates gaussian distribution (a continuous function over the space of locations and the area underneath sums to 1.\n",
    "\n",
    "Gaussian characterised by two parameters, mean(mu) and variance(sigma2).\n",
    "\n",
    "    1-D Gaussian (mu, sigma2)\n",
    "    \n",
    "    const = 1/(sqrt(2. * Pi * Sigma2)\n",
    "            \n",
    "    f(x) = const * exp^(-0.5 * ((x - mu)^2)/sigma2))"
   ]
  },
  {
   "cell_type": "markdown",
   "metadata": {},
   "source": [
    "#### Calculate f(x) for:\n",
    "    mu = 10\n",
    "    sigma2 = 4\n",
    "    x = 8\n",
    "    (x-mu)^2 = 4\n",
    "    (x-mu)^2/sigma2 = 4/4 = 1\n",
    "    "
   ]
  },
  {
   "cell_type": "code",
   "execution_count": 123,
   "metadata": {
    "collapsed": false
   },
   "outputs": [
    {
     "data": {
      "text/plain": [
       "0.12098536225957168"
      ]
     },
     "execution_count": 123,
     "metadata": {},
     "output_type": "execute_result"
    }
   ],
   "source": [
    "import numpy as np\n",
    "\n",
    "mu = 10\n",
    "sigma2 = 4\n",
    "x = 8\n",
    "const = 1/(np.sqrt(2*np.pi*sigma2))\n",
    "term2 = np.exp(-0.5 * (x - mu)**2/sigma2)\n",
    "fx = const * term2\n",
    "fx"
   ]
  },
  {
   "cell_type": "markdown",
   "metadata": {},
   "source": [
    "Create gaussian function\n",
    "\n",
    "    def f(mu, sigma2, x):\n",
    "        return 1/sqrt(2.*pi*sigma2) * exp(-.5 * (x-mu)**2 / sigma2)"
   ]
  },
  {
   "cell_type": "code",
   "execution_count": 124,
   "metadata": {
    "collapsed": false
   },
   "outputs": [
    {
     "name": "stdout",
     "output_type": "stream",
     "text": [
      "0.12098536225957168\n"
     ]
    }
   ],
   "source": [
    "from math import *\n",
    "\n",
    "def f(mu, sigma2, x):\n",
    "    return 1/sqrt(2.*pi*sigma2) * exp(-.5*(x-mu)**2 / sigma2)\n",
    "\n",
    "print(f(10.,4.,8.))"
   ]
  },
  {
   "cell_type": "markdown",
   "metadata": {},
   "source": [
    "The peak of the gaussian is where x = mu"
   ]
  },
  {
   "cell_type": "code",
   "execution_count": 125,
   "metadata": {
    "collapsed": false
   },
   "outputs": [
    {
     "name": "stdout",
     "output_type": "stream",
     "text": [
      "0.19947114020071635\n"
     ]
    }
   ],
   "source": [
    "print(f(10., 4., 10.))"
   ]
  },
  {
   "cell_type": "markdown",
   "metadata": {},
   "source": [
    "## Localization\n",
    "\n",
    "BELIEF = PROBABILITY\n",
    "\n",
    "MEASUREMENT = PRODUCT FOLLOWED BY NORMALIZATION\n",
    "\n",
    "MOVE = CONVOLUTION (=ADDITION)"
   ]
  },
  {
   "cell_type": "markdown",
   "metadata": {},
   "source": [
    "### Measurements  =  Bayes Rule (product)\n",
    "\n",
    "\n",
    "### Motion(prediction)  =  Total Probability (convolution)\n",
    "\n",
    "\n",
    "    Measurement means updating our belief and renormalizing our distribution.\n",
    "    \n",
    "    Motion means keeping track of changes in probability using the law of Total Probability."
   ]
  },
  {
   "cell_type": "markdown",
   "metadata": {
    "collapsed": true
   },
   "source": [
    "Gain information from 2 component gaussians, yielding a peakier posterior distribution after multiplying according to Bayes rule (higher median).\n",
    "\n",
    "Fusing two component gaussians yields a mean somewhere in the middle of the two distributions.\n",
    "\n",
    "Common situation for measurement update step:\n",
    "\n",
    "    prior p(x)\n",
    "    measurement probability p(z|x)\n",
    "    posterior p(x|z)\n",
    "    \n",
    "Wide low prior p(x), updated through Bayes rule product with measurement update p(z|x) yields higher median, lower variance posterior distribution p(x|z), with mean between the two original distributions."
   ]
  },
  {
   "cell_type": "markdown",
   "metadata": {},
   "source": [
    "### Parameter Update\n",
    "\n",
    "    Two distributions with (mean, variance):\n",
    "        p(x) = mu, sigma2\n",
    "        p(z|x) = nu, r2\n",
    "        p(x|z) = ???\n",
    "        \n",
    "    After update:\n",
    "    \n",
    "        muP = (r2 * mu + sigma2 * nu) / (r2 + sigma2)\n",
    "        sigma2P = 1 / (1/r2 + 1/sigma2)\n",
    "        "
   ]
  },
  {
   "cell_type": "code",
   "execution_count": 126,
   "metadata": {
    "collapsed": true
   },
   "outputs": [],
   "source": [
    "def mu_prime(mu, sigma2, nu, r2):\n",
    "    return (r2 * mu + sigma2 * nu) / (r2 + sigma2)\n",
    "    \n",
    "def sigma_prime(sigma2, r2):\n",
    "    return 1 / (1/r2 + 1/sigma2)"
   ]
  },
  {
   "cell_type": "code",
   "execution_count": 127,
   "metadata": {
    "collapsed": false
   },
   "outputs": [
    {
     "name": "stdout",
     "output_type": "stream",
     "text": [
      "Mean prime:  11.0\n",
      "Variance prime:  2.0\n"
     ]
    }
   ],
   "source": [
    "mu = 10\n",
    "sigma2 = 4\n",
    "nu = 12\n",
    "r2 = 4\n",
    "\n",
    "muP = mu_prime(mu, sigma2, nu, r2)\n",
    "sigma2P = sigma_prime(sigma2, r2)\n",
    "print(\"Mean prime: \", muP)\n",
    "print(\"Variance prime: \", sigma2P)"
   ]
  },
  {
   "cell_type": "code",
   "execution_count": 128,
   "metadata": {
    "collapsed": false
   },
   "outputs": [
    {
     "name": "stdout",
     "output_type": "stream",
     "text": [
      "Mean prime:  12.4\n",
      "Variance prime:  1.6\n"
     ]
    }
   ],
   "source": [
    "mu = 10\n",
    "sigma2 = 8\n",
    "nu = 13\n",
    "r2 = 2\n",
    "\n",
    "muP = mu_prime(mu, sigma2, nu, r2)\n",
    "sigma2P = sigma_prime(sigma2, r2)\n",
    "print(\"Mean prime: \", muP)\n",
    "print(\"Variance prime: \", sigma2P)"
   ]
  },
  {
   "cell_type": "markdown",
   "metadata": {},
   "source": [
    "### Update function is combination of the above two functions\n",
    "\n",
    "     mu = mean1 and nu = mean2\n",
    "\n",
    "     sigma2 = var1 and r2 = var2\n",
    "     \n",
    "\n",
    "    def update(mean1, var1, mean2, var2):\n",
    "    \n",
    "        new mean = (var2 * mean1 + var1 * mean2) / (var2 + var1)\n",
    "        \n",
    "        new_var = 1 / (1/var2 + 1/var1)"
   ]
  },
  {
   "cell_type": "code",
   "execution_count": 129,
   "metadata": {
    "collapsed": true
   },
   "outputs": [],
   "source": [
    "def update(mean1, var1, mean2, var2):\n",
    "    new_mean = (var2 * mean1 + var1 * mean2) / (var2 + var1)\n",
    "    new_var = 1 / (1/var2 + 1/var1)\n",
    "    return [new_mean, new_var]"
   ]
  },
  {
   "cell_type": "code",
   "execution_count": 130,
   "metadata": {
    "collapsed": false
   },
   "outputs": [
    {
     "name": "stdout",
     "output_type": "stream",
     "text": [
      "[12.4, 1.6]\n"
     ]
    }
   ],
   "source": [
    "print(update(10.,8.,13., 2.))"
   ]
  },
  {
   "cell_type": "markdown",
   "metadata": {},
   "source": [
    "### Movement (convolution) is an addition\n",
    "\n",
    "    mu, sigma2 = 8, 4\n",
    "    \n",
    "    nu, r2 = 10, 6"
   ]
  },
  {
   "cell_type": "code",
   "execution_count": 131,
   "metadata": {
    "collapsed": false
   },
   "outputs": [],
   "source": [
    "mean1, var1 = 8, 4  \n",
    "mean2, var2 = 10, 6\n",
    "muP = mean1+mean2\n",
    "sigma2P = var1+var2"
   ]
  },
  {
   "cell_type": "code",
   "execution_count": 132,
   "metadata": {
    "collapsed": false
   },
   "outputs": [
    {
     "name": "stdout",
     "output_type": "stream",
     "text": [
      "Mean after movement:  18\n",
      "Variance after movement:  10\n"
     ]
    }
   ],
   "source": [
    "print(\"Mean after movement: \", muP)\n",
    "print(\"Variance after movement: \", sigma2P)"
   ]
  },
  {
   "cell_type": "code",
   "execution_count": 133,
   "metadata": {
    "collapsed": true
   },
   "outputs": [],
   "source": [
    "def predict(mean1, var1, mean2, var2):\n",
    "    new_mean = mean1+mean2\n",
    "    new_var = var1+var2\n",
    "    return [new_mean, new_var]"
   ]
  },
  {
   "cell_type": "code",
   "execution_count": 134,
   "metadata": {
    "collapsed": false
   },
   "outputs": [
    {
     "name": "stdout",
     "output_type": "stream",
     "text": [
      "Mean after movement:  18\n",
      "Variance after movement:  10\n"
     ]
    }
   ],
   "source": [
    "muP, sigma2P = predict(mean1, var1, mean2, var2)\n",
    "print(\"Mean after movement: \", muP)\n",
    "print(\"Variance after movement: \", sigma2P)"
   ]
  },
  {
   "cell_type": "markdown",
   "metadata": {},
   "source": [
    "### Update function: used to update mean/variance based on measurements\n",
    "\n",
    "### Predict function is used to predict new mean/variance after movement."
   ]
  },
  {
   "cell_type": "code",
   "execution_count": 135,
   "metadata": {
    "collapsed": true
   },
   "outputs": [],
   "source": [
    "measurements = [5., 6., 7., 9., 10.]\n",
    "motion = [1., 1., 2., 1., 1.]\n",
    "measurement_sig = 4.\n",
    "motion_sig = 2.\n",
    "mu = 0.\n",
    "sig = 1000."
   ]
  },
  {
   "cell_type": "code",
   "execution_count": 136,
   "metadata": {
    "collapsed": false
   },
   "outputs": [
    {
     "name": "stdout",
     "output_type": "stream",
     "text": [
      "Mean/var after measurement:  [4.9800796812749, 3.9840637450199203]\n",
      "Mean/var after motion:       [5.9800796812749, 5.98406374501992]\n",
      "Mean/var after measurement:  [5.992019154030327, 2.3974461292897047]\n",
      "Mean/var after motion:       [6.992019154030327, 4.397446129289705]\n",
      "Mean/var after measurement:  [6.996198441360958, 2.094658810112146]\n",
      "Mean/var after motion:       [8.996198441360958, 4.094658810112146]\n",
      "Mean/var after measurement:  [8.99812144836331, 2.0233879678767672]\n",
      "Mean/var after motion:       [9.99812144836331, 4.023387967876767]\n",
      "Mean/var after measurement:  [9.99906346214631, 2.0058299481392163]\n",
      "Mean/var after motion:       [10.99906346214631, 4.005829948139216]\n"
     ]
    }
   ],
   "source": [
    "for i in range(len(measurements)):\n",
    "    [mu, sig] = update(mu, sig, measurements[i], measurement_sig)\n",
    "    print('Mean/var after measurement: ',[mu, sig])\n",
    "    [mu, sig] = predict(mu, sig, motion[i], motion_sig)\n",
    "    print('Mean/var after motion:      ', [mu, sig])"
   ]
  },
  {
   "cell_type": "markdown",
   "metadata": {},
   "source": [
    "### Multivariate Gaussians (High-dimensional)\n",
    "\n",
    "    Mean now a vector with one element for each of the dimensions, D and variance term replaced by covariance matrix with D rows and D columns if dimensions of estimate is D:\n",
    "    \n",
    "    mu = [mu0, mu1, ...muD]\n",
    "    \n",
    "    covar = np.array[[..., ...,\n",
    "                     ..., ...,\n",
    "                     ..., ...,]]"
   ]
  },
  {
   "cell_type": "markdown",
   "metadata": {},
   "source": [
    "## 2D Kalman Filters\n",
    "\n",
    "Prior gaussian (result of predict function/movement) multiplied by measurement probability(result of update function).\n",
    "\n",
    "Resulting gaussian yields good estimate of velocity and location.\n",
    "\n",
    "    xprime (location after timestep) = x (old location) + xdot (velocity)\n",
    "    \n",
    "        ** Remember this assumes time interval delta_t to be 1. A more general formula would be xprime = x + xdot * delta_t\n",
    "    \n",
    "Kalman filter variables (states) allow us through multiple observations (such as of momentary location) to infer hidden variables (such as velocity)."
   ]
  },
  {
   "cell_type": "markdown",
   "metadata": {},
   "source": [
    "### Prediction step\n",
    "\n",
    "    x = estimate\n",
    "    F = state transition matrix\n",
    "    u = motion vector\n",
    "    P = uncertainty covariance\n",
    "    \n",
    "    xprime = F * x + u\n",
    "    Pprime = F * P * F.T\n",
    "    \n",
    "### Measurement update step\n",
    "\n",
    "    z = measurement\n",
    "    H = measurement function\n",
    "    y = error\n",
    "    R = measurement noise\n",
    "    I = identity matrix\n",
    "    \n",
    "    y = z - H * x\n",
    "    S = H * P * H.T + R\n",
    "    K = P * H.T * (1/S)\n",
    "    xprime = x + (K * y)\n",
    "    Pprime = (I - K * H) * P\n",
    "    \n",
    "    "
   ]
  },
  {
   "cell_type": "markdown",
   "metadata": {},
   "source": [
    "### Matrix class for matrix manipulation"
   ]
  },
  {
   "cell_type": "code",
   "execution_count": 137,
   "metadata": {
    "collapsed": true
   },
   "outputs": [],
   "source": [
    "import matrix"
   ]
  },
  {
   "cell_type": "code",
   "execution_count": 138,
   "metadata": {
    "collapsed": false
   },
   "outputs": [
    {
     "name": "stdout",
     "output_type": "stream",
     "text": [
      "[10.0]\n",
      "[10.0]\n",
      " \n"
     ]
    }
   ],
   "source": [
    "a = matrix.matrix([[10.], [10.]])\n",
    "a.show()"
   ]
  },
  {
   "cell_type": "code",
   "execution_count": 139,
   "metadata": {
    "collapsed": false
   },
   "outputs": [
    {
     "name": "stdout",
     "output_type": "stream",
     "text": [
      "[10.0, 10.0]\n",
      " \n"
     ]
    }
   ],
   "source": [
    "b = a.transpose()\n",
    "b.show()"
   ]
  },
  {
   "cell_type": "code",
   "execution_count": 140,
   "metadata": {
    "collapsed": false
   },
   "outputs": [
    {
     "name": "stdout",
     "output_type": "stream",
     "text": [
      "[200.0]\n",
      "[80.0]\n",
      " \n"
     ]
    }
   ],
   "source": [
    "F = matrix.matrix([[12., 8.], [6., 2.]])\n",
    "b = F * a\n",
    "b.show()"
   ]
  },
  {
   "cell_type": "markdown",
   "metadata": {},
   "source": [
    "### Kalman filter design"
   ]
  },
  {
   "cell_type": "markdown",
   "metadata": {},
   "source": [
    "### Prediction step\n",
    "  \n",
    "    xprime = F * x + u\n",
    "    Pprime = F * P * F.T\n",
    "    \n",
    "### Measurement update step\n",
    "\n",
    "    y = z - H * x\n",
    "    S = H * P * H.T + R\n",
    "    K = P * H.T * (1/S)\n",
    "    \n",
    "    xprime = x + (K * y)\n",
    "    Pprime = (I - K * H) * P\n",
    "    \n",
    "    x = intial state (location and velocity)\n",
    "    P = initial uncertainty\n",
    "    u = external motion\n",
    "    F = next state function\n",
    "    H = measurement function\n",
    "    R = measurement uncertainty\n",
    "    I = identity matrix\n",
    "    Z = measurement"
   ]
  },
  {
   "cell_type": "code",
   "execution_count": 141,
   "metadata": {
    "collapsed": false
   },
   "outputs": [],
   "source": [
    "measurements = [1, 2, 3]\n",
    "\n",
    "x = matrix.matrix([[0.], [0.]])\n",
    "P = matrix.matrix([[1000., 0.], [0., 1000.]])\n",
    "u = matrix.matrix([[0.], [0.]])\n",
    "F = matrix.matrix([[1., 1.], [0, 1.]])\n",
    "H = matrix.matrix([[1., 0.]])\n",
    "R = matrix.matrix([[1.]])\n",
    "I = matrix.matrix([[1., 0.], [0., 1.]])"
   ]
  },
  {
   "cell_type": "code",
   "execution_count": 142,
   "metadata": {
    "collapsed": true
   },
   "outputs": [],
   "source": [
    "def kalman_filter(x, P):\n",
    "    for i in range(len(measurements)):\n",
    "        Z = matrix.matrix([[measurements[i]]])\n",
    "        y = Z - (H * x)\n",
    "        S = H * P * H.transpose() + R\n",
    "        K = P * H.transpose() * S.inverse()\n",
    "        \n",
    "        # measurement update step\n",
    "        x = x + (K * y)\n",
    "        P = (I - (K * H)) * P\n",
    "        \n",
    "        # prediction (move) step\n",
    "        x = (F * x) + u\n",
    "        P = F * P * F.transpose()\n",
    "        \n",
    "    return x,P"
   ]
  },
  {
   "cell_type": "code",
   "execution_count": 143,
   "metadata": {
    "collapsed": false
   },
   "outputs": [
    {
     "name": "stdout",
     "output_type": "stream",
     "text": [
      "([[3.9996664447958645], [0.9999998335552873]], [[2.3318904241194827, 0.9991676099921091], [0.9991676099921067, 0.49950058263974184]])\n"
     ]
    }
   ],
   "source": [
    "print((kalman_filter(x, P)))"
   ]
  },
  {
   "cell_type": "markdown",
   "metadata": {},
   "source": [
    "### 4D Kalman Filters (hard)"
   ]
  },
  {
   "cell_type": "markdown",
   "metadata": {},
   "source": [
    "    measurements = sequence of measurements in 2D space (x, y)\n",
    "    \n",
    "    initial_xy = initial (x, y) location\n",
    "    \n",
    "                    [4., 12.]\n",
    "    \n",
    "    dt = 0.1 (tenth of a timestep)\n",
    "    \n",
    "    x = initial state vector set up: (initial x, initial y, 0, 0) \n",
    "        \"0\" for unknown velocities\n",
    "        \n",
    "          [[initial_xy[0]], [initial_xy[1]], [0.], [0.]]\n",
    "        \n",
    "    u = all zeros because no \"external\" or outside force involved\n",
    "    \n",
    "                   [[0.], [0.], [0.], [0.]]\n",
    "    \n",
    "    P = initial uncertainty: 0 for positions x and y, 1000 for the two velocities (**along main diagonal of the matrix)\n",
    "    \n",
    "                    [[0., 0., 0., 0],\n",
    "                     [0., 0., 0., 0.],\n",
    "                     [0., 0., 1000., 0.],\n",
    "                     [0., 0., 0., 1000.]]\n",
    "    \n",
    "    F = next state function all 1s along the main diagonal because position and velocity expected to remain the same, dt in off diagonals because time interval and velocity together impact both x and y coordinates\n",
    "    \n",
    "    \n",
    "    H = 4x2 projection matrix projecting beliefs about x and y without velocities (ie 2 row matrix, with 1 in first entry first row for x coordinate and 1 in second row second entry for y:\n",
    "    \n",
    "                    [[1., 0., 0., 0.],\n",
    "                     [0., 1., 0., 0.]]\n",
    "                    \n",
    "    R =  measurement uncertainty: use 2x2 matrix with 0.1 as main diagonal\n",
    "    \n",
    "                        [[0.1, 0],\n",
    "                         [0, 0.1]]\n",
    "                         \n",
    "    I = 4D identity matrix (ie matrix with 4 rows, 4 columns and 1s across main diagonal.\n",
    "    \n",
    "                    [[1., 0., 0., 0.],\n",
    "                     [0., 1., 0., 0.],\n",
    "                     [0., 0., 1., 0.],\n",
    "                     [0., 0., 0., 1.]]"
   ]
  },
  {
   "cell_type": "code",
   "execution_count": 144,
   "metadata": {
    "collapsed": true
   },
   "outputs": [],
   "source": [
    "measurements = [[5., 10.], [6., 8.], [7., 6.], [8., 4.], [9., 2.], [10., 0.]]\n",
    "initial_xy = [4., 12.]\n",
    "\n",
    "dt = 0.1\n",
    "\n",
    "x = matrix.matrix([[initial_xy[0]], [initial_xy[1]], [0.], [0.]])\n",
    "u = matrix.matrix([[0.], [0.], [0.], [0.]])"
   ]
  },
  {
   "cell_type": "code",
   "execution_count": 145,
   "metadata": {
    "collapsed": false
   },
   "outputs": [],
   "source": [
    "P =  matrix.matrix([[0., 0., 0., 0],\n",
    "                    [0., 0., 0., 0.],\n",
    "                    [0., 0., 1000., 0.],\n",
    "                    [0., 0., 0., 1000.]])\n",
    "\n",
    "F =  matrix.matrix([[1., 0., dt, 0.],\n",
    "                    [0., 1., 0., dt],\n",
    "                    [0., 0., 1., 0.],\n",
    "                    [0., 0., 0., 1.]])\n",
    "H =  matrix.matrix([[1., 0., 0., 0.],\n",
    "                    [0., 1., 0., 0.]])\n",
    "\n",
    "R =  matrix.matrix([[0.1, 0.],\n",
    "                    [0., 0.1]])\n",
    "\n",
    "I =  matrix.matrix([[1., 0., 0., 0.],\n",
    "                    [0., 1., 0., 0.],\n",
    "                    [0., 0., 1., 0.],\n",
    "                    [0., 0., 0., 1.]])"
   ]
  },
  {
   "cell_type": "code",
   "execution_count": 146,
   "metadata": {
    "collapsed": true
   },
   "outputs": [],
   "source": [
    "def kalman_filter_4d(x, P):\n",
    "    for n in range(len(measurements)):\n",
    "        \n",
    "        # prediction\n",
    "        x = (F * x) + u\n",
    "        P = F * P * F.transpose()\n",
    "        \n",
    "        # measurement update\n",
    "        Z = matrix.matrix([measurements[n]])\n",
    "        y = Z.transpose() - (H * x)\n",
    "        S = H * P * H.transpose() + R\n",
    "        K = P * H.transpose() * S.inverse()\n",
    "        x = x + (K * y)\n",
    "        P = (I - (K * H)) * P\n",
    "        \n",
    "    return x, P"
   ]
  },
  {
   "cell_type": "code",
   "execution_count": 147,
   "metadata": {
    "collapsed": false,
    "scrolled": true
   },
   "outputs": [],
   "source": [
    "xprime, Pprime = (kalman_filter_4d(x, P))"
   ]
  },
  {
   "cell_type": "code",
   "execution_count": 148,
   "metadata": {
    "collapsed": false
   },
   "outputs": [
    {
     "name": "stdout",
     "output_type": "stream",
     "text": [
      "x = \n",
      " [[9.999340731787717], [0.001318536424568617], [9.998901219646193], [-19.997802439292386]]\n",
      " \n",
      "P = \n",
      " [[0.03955609273706198, 0.0, 0.06592682122843721, 0.0], [0.0, 0.03955609273706198, 0.0, 0.06592682122843721], [0.06592682122843718, 0.0, 0.10987803538073201, 0.0], [0.0, 0.06592682122843718, 0.0, 0.10987803538073201]]\n"
     ]
    }
   ],
   "source": [
    "print(\"x = \\n\", xprime)\n",
    "print(\" \")\n",
    "print(\"P = \\n\", Pprime)"
   ]
  },
  {
   "cell_type": "markdown",
   "metadata": {},
   "source": [
    "### Other examples"
   ]
  },
  {
   "cell_type": "code",
   "execution_count": 149,
   "metadata": {
    "collapsed": false
   },
   "outputs": [
    {
     "name": "stdout",
     "output_type": "stream",
     "text": [
      "x = \n",
      " [[15.993335554815062], [-7.99466844385205], [49.98333888703765], [-39.98667110963012]]\n",
      " \n",
      "P = \n",
      " [[0.05331556147950691, 0.0, 0.13328890369876803, 0.0], [0.0, 0.05331556147950691, 0.0, 0.13328890369876803], [0.1332889036987679, 0.0, 0.33322225924692717, 0.0], [0.0, 0.1332889036987679, 0.0, 0.33322225924692717]]\n"
     ]
    }
   ],
   "source": [
    "measurements = [[1., 4.], [6., 0.], [11., -4.], [16., -8.]]\n",
    "initial_xy = [-4., 8.]\n",
    "\n",
    "x = matrix.matrix([[initial_xy[0]], [initial_xy[1]], [0.], [0.]])\n",
    "\n",
    "xprime, Pprime = (kalman_filter_4d(x, P))\n",
    "\n",
    "print(\"x = \\n\", xprime)\n",
    "print(\" \")\n",
    "print(\"P = \\n\", Pprime)"
   ]
  },
  {
   "cell_type": "code",
   "execution_count": 150,
   "metadata": {
    "collapsed": false
   },
   "outputs": [
    {
     "name": "stdout",
     "output_type": "stream",
     "text": [
      "x = \n",
      " [[1.0], [11.002665778073975], [0.0], [-19.993335554815054]]\n",
      " \n",
      "P = \n",
      " [[0.05331556147950691, 0.0, 0.13328890369876803, 0.0], [0.0, 0.05331556147950691, 0.0, 0.13328890369876803], [0.1332889036987679, 0.0, 0.33322225924692717, 0.0], [0.0, 0.1332889036987679, 0.0, 0.33322225924692717]]\n"
     ]
    }
   ],
   "source": [
    "measurements = [[1., 17.], [1., 15.], [1., 13.], [1., 11.]]\n",
    "initial_xy = [1., 19.]\n",
    "\n",
    "x = matrix.matrix([[initial_xy[0]], [initial_xy[1]], [0.], [0.]])\n",
    "\n",
    "xprime, Pprime = (kalman_filter_4d(x, P))\n",
    "\n",
    "print(\"x = \\n\", xprime)\n",
    "print(\" \")\n",
    "print(\"P = \\n\", Pprime)"
   ]
  }
 ],
 "metadata": {
  "kernelspec": {
   "display_name": "Python [conda root]",
   "language": "python",
   "name": "conda-root-py"
  },
  "language_info": {
   "codemirror_mode": {
    "name": "ipython",
    "version": 3
   },
   "file_extension": ".py",
   "mimetype": "text/x-python",
   "name": "python",
   "nbconvert_exporter": "python",
   "pygments_lexer": "ipython3",
   "version": "3.5.2"
  }
 },
 "nbformat": 4,
 "nbformat_minor": 2
}
