{
 "cells": [
  {
   "cell_type": "code",
   "execution_count": 1,
   "metadata": {
    "collapsed": true
   },
   "outputs": [],
   "source": [
    "# Uniform maximum confusion probability density function with straight line.\n",
    "# Prior belief\n",
    "# Posterior belief updated by measurement\n",
    "# Updating beliefs = convolution\n",
    "\n",
    "import numpy as np"
   ]
  },
  {
   "cell_type": "markdown",
   "metadata": {},
   "source": [
    "### [X1, X2, X3, X4, X5] = 1.0\n",
    "\n",
    "### p(Xi) = 0.2 for i = 1...5"
   ]
  },
  {
   "cell_type": "code",
   "execution_count": 2,
   "metadata": {
    "collapsed": false
   },
   "outputs": [
    {
     "name": "stdout",
     "output_type": "stream",
     "text": [
      "[0.2, 0.2, 0.2, 0.2, 0.2]\n"
     ]
    }
   ],
   "source": [
    "p = [0.2, 0.2, 0.2, 0.2, 0.2]\n",
    "\n",
    "print(p)"
   ]
  },
  {
   "cell_type": "code",
   "execution_count": 3,
   "metadata": {
    "collapsed": true
   },
   "outputs": [],
   "source": [
    "def create_p_vector(n):\n",
    "    \"\"\"Create uniform probability vector with n elements\"\"\"\n",
    "    p = []\n",
    "    for i in range(n):\n",
    "        p.append(1./n)\n",
    "    return np.array(p)"
   ]
  },
  {
   "cell_type": "code",
   "execution_count": 4,
   "metadata": {
    "collapsed": false
   },
   "outputs": [
    {
     "name": "stdout",
     "output_type": "stream",
     "text": [
      "[ 0.2  0.2  0.2  0.2  0.2]\n"
     ]
    }
   ],
   "source": [
    "p = create_p_vector(5)\n",
    "print(p)"
   ]
  },
  {
   "cell_type": "code",
   "execution_count": 5,
   "metadata": {
    "collapsed": true
   },
   "outputs": [],
   "source": [
    "measurement = np.array([0.2, 0.6, 0.6, 0.2, 0.2])"
   ]
  },
  {
   "cell_type": "code",
   "execution_count": 6,
   "metadata": {
    "collapsed": true
   },
   "outputs": [],
   "source": [
    "posterior = p * measurement"
   ]
  },
  {
   "cell_type": "code",
   "execution_count": 7,
   "metadata": {
    "collapsed": false
   },
   "outputs": [
    {
     "data": {
      "text/plain": [
       "0.3600000000000001"
      ]
     },
     "execution_count": 7,
     "metadata": {},
     "output_type": "execute_result"
    }
   ],
   "source": [
    "posterior.sum()"
   ]
  },
  {
   "cell_type": "code",
   "execution_count": 8,
   "metadata": {
    "collapsed": false
   },
   "outputs": [
    {
     "data": {
      "text/plain": [
       "array([ 0.11111111,  0.33333333,  0.33333333,  0.11111111,  0.11111111])"
      ]
     },
     "execution_count": 8,
     "metadata": {},
     "output_type": "execute_result"
    }
   ],
   "source": [
    "# Normalizing to return probability distribution equaling 1\n",
    "# p(Xi|Z)\n",
    "# posterior distribution of place Xi given measurement Z\n",
    "posterior = posterior / posterior.sum()\n",
    "posterior"
   ]
  },
  {
   "cell_type": "code",
   "execution_count": 9,
   "metadata": {
    "collapsed": false
   },
   "outputs": [
    {
     "data": {
      "text/plain": [
       "0.99999999999999978"
      ]
     },
     "execution_count": 9,
     "metadata": {},
     "output_type": "execute_result"
    }
   ],
   "source": [
    "posterior.sum()"
   ]
  },
  {
   "cell_type": "code",
   "execution_count": 10,
   "metadata": {
    "collapsed": false
   },
   "outputs": [
    {
     "data": {
      "text/plain": [
       "array([ 0.2,  0.2,  0.2,  0.2,  0.2])"
      ]
     },
     "execution_count": 10,
     "metadata": {},
     "output_type": "execute_result"
    }
   ],
   "source": [
    "p = create_p_vector(5)\n",
    "p"
   ]
  },
  {
   "cell_type": "code",
   "execution_count": 11,
   "metadata": {
    "collapsed": true
   },
   "outputs": [],
   "source": [
    "# Write code that outputs p after multiplying each entry by pHit or pMiss\n",
    "# at the appropriate places\n",
    "# Red cells 1/2 are hits and other green cells are misses\n",
    "pHit = 0.6\n",
    "pMiss = 0.2\n",
    "\n",
    "p[0] = p[0] * pMiss\n",
    "p[1] = p[1] * pHit\n",
    "p[2] = p[2] * pHit\n",
    "p[3] = p[3] * pMiss\n",
    "p[4] = p[4] * pMiss"
   ]
  },
  {
   "cell_type": "code",
   "execution_count": 12,
   "metadata": {
    "collapsed": false
   },
   "outputs": [
    {
     "name": "stdout",
     "output_type": "stream",
     "text": [
      "0.36\n"
     ]
    }
   ],
   "source": [
    "print(p.sum())"
   ]
  },
  {
   "cell_type": "code",
   "execution_count": 13,
   "metadata": {
    "collapsed": true
   },
   "outputs": [],
   "source": [
    "p = create_p_vector(5)\n",
    "world = ['green', 'red', 'red', 'green', 'green']\n",
    "measurements = ['red', 'green']\n",
    "pHit = 0.6\n",
    "pMiss = 0.2\n",
    "\n",
    "\n",
    "### MEASUREMENT UPDATE\n",
    "def sense(p, Z):\n",
    "    q = []\n",
    "    # iterate over all elements in input probability p\n",
    "    for i in range(len(p)):\n",
    "        # binary flag if true = 1, if false = 0\n",
    "        hit = (Z == world[i])\n",
    "        q.append(p[i] * (hit * pHit + (1- hit) * pMiss))\n",
    "    return q / sum(q)"
   ]
  },
  {
   "cell_type": "code",
   "execution_count": 15,
   "metadata": {
    "collapsed": false
   },
   "outputs": [
    {
     "name": "stdout",
     "output_type": "stream",
     "text": [
      "[ 0.2  0.2  0.2  0.2  0.2]\n"
     ]
    }
   ],
   "source": [
    "print(sense(p, measurements))"
   ]
  },
  {
   "cell_type": "code",
   "execution_count": 16,
   "metadata": {
    "collapsed": true
   },
   "outputs": [],
   "source": [
    "for k in range(len(measurements)):\n",
    "    p = sense(p, measurements[k])"
   ]
  },
  {
   "cell_type": "code",
   "execution_count": 17,
   "metadata": {
    "collapsed": false
   },
   "outputs": [
    {
     "data": {
      "text/plain": [
       "array([ 0.2,  0.2,  0.2,  0.2,  0.2])"
      ]
     },
     "execution_count": 17,
     "metadata": {},
     "output_type": "execute_result"
    }
   ],
   "source": [
    "p"
   ]
  },
  {
   "cell_type": "code",
   "execution_count": 18,
   "metadata": {
    "collapsed": true
   },
   "outputs": [],
   "source": [
    "# input distribution p and motion number U (grid cells moving),\n",
    "# return new distribution q, after the move, if U = 0 q = p\n",
    "p = np.array([0, 1, 0, 0, 0])\n",
    "world=['green', 'red', 'red', 'green', 'green']\n",
    "measurements = ['red', 'green']\n",
    "pHit = 0.6\n",
    "pMiss = 0.2\n",
    "\n",
    "def move(p, U):\n",
    "    q = []\n",
    "    for i in range(len(p)):\n",
    "        q.append(p[(i - U) % len(p)])\n",
    "    return q"
   ]
  },
  {
   "cell_type": "code",
   "execution_count": 19,
   "metadata": {
    "collapsed": true
   },
   "outputs": [],
   "source": [
    "def move(p, U):\n",
    "    q = []\n",
    "    for i in range(len(p)):\n",
    "        q.append(p[i - U % len(p)])\n",
    "    return q"
   ]
  },
  {
   "cell_type": "code",
   "execution_count": 20,
   "metadata": {
    "collapsed": false
   },
   "outputs": [
    {
     "name": "stdout",
     "output_type": "stream",
     "text": [
      "[0, 0, 1, 0, 0]\n"
     ]
    }
   ],
   "source": [
    "print(move(p, 1))"
   ]
  },
  {
   "cell_type": "markdown",
   "metadata": {
    "collapsed": true
   },
   "source": [
    "### Inaccurate robot motion\n",
    "U = 1 \n",
    "\n",
    "[0., 0.1, 0.8, 0.1, 0.]\n",
    "\n",
    "U = 2\n",
    "\n",
    "[0., 0., 0.1, 0.8, 0.1]\n",
    "\n",
    "========================"
   ]
  },
  {
   "cell_type": "markdown",
   "metadata": {},
   "source": [
    "U1 = [0., 1., 0., 0., 0.]\n",
    "\n",
    "p(Xi+2|Xi) = 0.8\n",
    "\n",
    "p(Xi+1|Xi) = 0.1\n",
    "\n",
    "p(Xi+3|Xi) = 0.1\n",
    "\n",
    "U2 = [0., 0., 0.1, 0.8, 0.1]\n",
    "\n",
    "========================"
   ]
  },
  {
   "cell_type": "markdown",
   "metadata": {},
   "source": [
    "U1 = [0., 0.5, 0., 0.5, 0]\n",
    "\n",
    "p(Xi+2|Xi) = 0.8\n",
    "\n",
    "p(Xi+1|Xi) = 0.1\n",
    "\n",
    "p(Xi+3|Xi) = 0.1\n",
    "\n",
    "========================="
   ]
  },
  {
   "cell_type": "code",
   "execution_count": 22,
   "metadata": {
    "collapsed": false
   },
   "outputs": [
    {
     "data": {
      "text/plain": [
       "array([ 0.4 ,  0.05,  0.05,  0.4 ,  0.1 ])"
      ]
     },
     "execution_count": 22,
     "metadata": {},
     "output_type": "execute_result"
    }
   ],
   "source": [
    "U21 = np.array([0., 0., 0.05, 0.4, 0.05])\n",
    "U22 = np.array([0.4, 0.05, 0., 0., 0.05])\n",
    "U2 = U21 + U22\n",
    "U2"
   ]
  },
  {
   "cell_type": "code",
   "execution_count": 23,
   "metadata": {
    "collapsed": true
   },
   "outputs": [],
   "source": [
    "U1 = create_p_vector(5)"
   ]
  },
  {
   "cell_type": "code",
   "execution_count": 24,
   "metadata": {
    "collapsed": false
   },
   "outputs": [
    {
     "data": {
      "text/plain": [
       "array([ 0.2,  0.2,  0.2,  0.2,  0.2])"
      ]
     },
     "execution_count": 24,
     "metadata": {},
     "output_type": "execute_result"
    }
   ],
   "source": [
    "U1"
   ]
  },
  {
   "cell_type": "markdown",
   "metadata": {},
   "source": [
    "p(Xi+2|Xi) = 0.8\n",
    "\n",
    "p(Xi+1|Xi) = 0.1\n",
    "\n",
    "p(Xi+3|Xi) = 0.1"
   ]
  },
  {
   "cell_type": "code",
   "execution_count": 25,
   "metadata": {
    "collapsed": false
   },
   "outputs": [
    {
     "data": {
      "text/plain": [
       "array([ 0.2,  0.2,  0.2,  0.2,  0.2])"
      ]
     },
     "execution_count": 25,
     "metadata": {},
     "output_type": "execute_result"
    }
   ],
   "source": [
    "# Each grid cell equally likely with motion model\n",
    "# applied still yields grid cells with equal likelihood.\n",
    "U2 = U1\n",
    "U2"
   ]
  },
  {
   "cell_type": "markdown",
   "metadata": {},
   "source": [
    "Modify the move function to accomodate the added probabilities of overshooting or undershooting the intended destination\n",
    "\n",
    "    def move(p, U):\n",
    "\n",
    "        q = []\n",
    "        for i in range(len(p)):\n",
    "            q.append(p[(i - U) % len(p)])\n",
    "        return q"
   ]
  },
  {
   "cell_type": "code",
   "execution_count": 56,
   "metadata": {
    "collapsed": true
   },
   "outputs": [],
   "source": [
    "p = [0, 1, 0, 0, 0]\n",
    "world = ['green', 'red', 'red', 'green', 'green']\n",
    "meansurements = ['red', 'green']\n",
    "pHit = 0.6\n",
    "pMiss = 0.2\n",
    "pExact = 0.8\n",
    "pOvershoot = 0.1\n",
    "pUndershoot = 0.1"
   ]
  },
  {
   "cell_type": "code",
   "execution_count": 57,
   "metadata": {
    "collapsed": true
   },
   "outputs": [],
   "source": [
    "def sense(p, Z):\n",
    "    q = []\n",
    "    for i in range(len(p)):\n",
    "        hit = (Z == world[i])\n",
    "        q.append(p[i] * (hit * pHit + (1-hit) * pMiss))\n",
    "    s = sum(q)\n",
    "    for i in range(len(q)):\n",
    "        q[i] = q[i] / s\n",
    "    return q"
   ]
  },
  {
   "cell_type": "code",
   "execution_count": 58,
   "metadata": {
    "collapsed": true
   },
   "outputs": [],
   "source": [
    "def move(p, U):\n",
    "    q = []\n",
    "    for i in range(len(p)):\n",
    "        s = pExact * p[(i-U) % len(p)]\n",
    "        s = s + pOvershoot * p[(i-U-1)%len(p)]\n",
    "        s = s + pUndershoot * p[(i-U+1)%len(p)]\n",
    "        q.append(s)\n",
    "    return q"
   ]
  },
  {
   "cell_type": "code",
   "execution_count": 59,
   "metadata": {
    "collapsed": false
   },
   "outputs": [],
   "source": [
    "for i in range(1000):\n",
    "    p = move(p, 1)"
   ]
  },
  {
   "cell_type": "code",
   "execution_count": 60,
   "metadata": {
    "collapsed": false
   },
   "outputs": [
    {
     "name": "stdout",
     "output_type": "stream",
     "text": [
      "[0.20000000000000365, 0.20000000000000373, 0.20000000000000365, 0.2000000000000035, 0.2000000000000035]\n"
     ]
    }
   ],
   "source": [
    "print(p)"
   ]
  },
  {
   "cell_type": "markdown",
   "metadata": {},
   "source": [
    "Measure of information of a distribution\n",
    "\n",
    "    Entropy\n",
    "    \n",
    "    -E p(Xi)log(p(Xi))"
   ]
  },
  {
   "cell_type": "markdown",
   "metadata": {},
   "source": [
    "Given the list motions=[1,1] which means the robot moves right and then right again, compute the posterior \n",
    "distribution if the robot first senses red, then moves \n",
    "right one, then senses green, then moves right again, \n",
    "starting with a uniform prior distribution."
   ]
  },
  {
   "cell_type": "code",
   "execution_count": 61,
   "metadata": {
    "collapsed": true
   },
   "outputs": [],
   "source": [
    "p = create_p_vector(5)\n",
    "world = ['green', 'red', 'red', 'green', 'green']\n",
    "measurements = ['red', 'green']\n",
    "motions = [1, 1]\n",
    "pHit = 0.6\n",
    "pMiss = 0.2\n",
    "pExact = 0.8\n",
    "pOvershoot = 0.1\n",
    "pUndershoot = 0.1\n",
    "\n",
    "def sense(p, Z):\n",
    "    q = []\n",
    "    for i in range(len(p)):\n",
    "        hit = (Z == world[i])\n",
    "        q.append(p[i] * (hit * pHit + (1-hit) * pMiss))\n",
    "    s = sum(q)\n",
    "    for i in range(len(q)):\n",
    "        q[i] = q[i] / s\n",
    "    return q\n",
    "\n",
    "def move(p, U):\n",
    "    q = []\n",
    "    for i in range(len(p)):\n",
    "        s = pExact * p[(i-U) % len(p)]\n",
    "        s = s + pOvershoot * p[(i-U-1) % len(p)]\n",
    "        s = s + pUndershoot * p[(i-U+1) % len(p)]\n",
    "        q.append(s)\n",
    "    return q"
   ]
  },
  {
   "cell_type": "markdown",
   "metadata": {},
   "source": [
    "For the number of measurements, compute a sense step and compute a motion step update on p."
   ]
  },
  {
   "cell_type": "code",
   "execution_count": 62,
   "metadata": {
    "collapsed": true
   },
   "outputs": [],
   "source": [
    "for k in range(len(measurements)):\n",
    "    p = sense(p, measurements[k])\n",
    "    p = move(p, motions[k])"
   ]
  },
  {
   "cell_type": "code",
   "execution_count": 63,
   "metadata": {
    "collapsed": false
   },
   "outputs": [
    {
     "name": "stdout",
     "output_type": "stream",
     "text": [
      "[0.21157894736842103, 0.15157894736842109, 0.08105263157894739, 0.16842105263157897, 0.38736842105263158]\n"
     ]
    }
   ],
   "source": [
    "print(p)"
   ]
  },
  {
   "cell_type": "code",
   "execution_count": 65,
   "metadata": {
    "collapsed": false
   },
   "outputs": [
    {
     "name": "stdout",
     "output_type": "stream",
     "text": [
      "[0.078823529411764709, 0.075294117647058845, 0.22470588235294123, 0.43294117647058822, 0.18823529411764706]\n"
     ]
    }
   ],
   "source": [
    "p = create_p_vector(5)\n",
    "world = ['green', 'red', 'red', 'green', 'green']\n",
    "measurements = ['red', 'red']\n",
    "motions = [1, 1]\n",
    "pHit = 0.6\n",
    "pMiss = 0.2\n",
    "pExact = 0.8\n",
    "pOvershoot = 0.1\n",
    "pUndershoot = 0.1\n",
    "for k in range(len(measurements)):\n",
    "    p = sense(p, measurements[k])\n",
    "    p = move(p, motions[k])\n",
    "print(p)"
   ]
  },
  {
   "cell_type": "markdown",
   "metadata": {},
   "source": [
    "## Localization\n",
    "\n",
    "BELIEF = PROBABILITY\n",
    "\n",
    "SENSE = PRODUCT FOLLOWED BY NORMALIZATION\n",
    "\n",
    "MOVE = CONVOLUTION (=ADDITION)"
   ]
  },
  {
   "cell_type": "markdown",
   "metadata": {},
   "source": [
    "## Formal Definition\n",
    "\n",
    "    0 <= P(X) <= 1\n",
    "    \n",
    "    P(X1) = 0.2\n",
    "    P(X2) = 0.8\n",
    "    \n",
    "    =============\n",
    "    \n",
    "    P(X1) = 0\n",
    "    P(X2) = 1"
   ]
  },
  {
   "cell_type": "markdown",
   "metadata": {},
   "source": [
    "    =============\n",
    "    \n",
    "    0 <= P(X) <= 1\n",
    "    \n",
    "    E P(Xi) = 1\n",
    "    \n",
    "    [0.1, 0.1, 0.1, 0.1, 0.6]\n",
    "    \n",
    "    ============="
   ]
  },
  {
   "cell_type": "markdown",
   "metadata": {},
   "source": [
    "## Measurements\n",
    "\n",
    "## BAYES RULE:\n",
    "\n",
    "    E = sum of\n",
    "    X = grid cell\n",
    "    Z = measurement\n",
    "    P(X) = prior distribution\n",
    "    P(Z|X) = measurement probability, ie(chances of seeing red/green tile for every possible location)   \n",
    "    P(Z|Xi) * P(Xi) = non-normalized posterior distribution\n",
    "    \n",
    "    p(X|Z) = ( P(Z|Xi) * P(Xi) ) / P(Z)\n",
    "    p(Z) = E(i) P(Z|Xi) * P(Xi)\n",
    "    \n",
    "    Function that assigns to each grid cell a number and p(Z) remains the same.\n",
    "    \n",
    "    Non-normalized probability:\n",
    "    \n",
    "    Pbar(Xi|Z) = P(Z|Xi) * P(Xi)\n",
    "    \n",
    "    alpha(normalizer) = E Pbar(Xi|Z)\n",
    "    \n",
    "    Resulting probability:\n",
    "    \n",
    "    P(Xi|Z) = ( 1 / alpha ) * Pbar(Xi|Z)\n",
    "    \n",
    "    "
   ]
  },
  {
   "cell_type": "markdown",
   "metadata": {},
   "source": [
    "## CANCER TEST\n",
    "\n",
    "### BAYES RULE:\n",
    "\n",
    "#### P(A|B) = P(B|A) * P(A) / P(B)\n",
    "    \n",
    "    Cancer/non-cancer = robot position\n",
    "    \n",
    "    Pos = color door observed correct\n",
    "\n",
    "    p(C) = 0.001\n",
    "\n",
    "    p(nC) = 0.999\n",
    "\n",
    "    p(POS|C) = 0.8\n",
    "\n",
    "    p(POS|nC) = 0.1"
   ]
  },
  {
   "cell_type": "markdown",
   "metadata": {},
   "source": [
    "#### Calculate 2 non-normalized probabilities, calculate alpha and normalize\n",
    "\n",
    "    pbar(C|POS) = 0.001 * 0.8 = 0.0008\n",
    "    \n",
    "    pbar(nC|POS) = 0.999 * 0.1 = 0.0999\n",
    "    \n",
    "    alpha = 0.0008 + 0.0999 = 0.1007\n",
    "    \n",
    "    p(C|POS) = 0.0008 / 0.1007 = 0.0079\n",
    "    "
   ]
  },
  {
   "cell_type": "markdown",
   "metadata": {},
   "source": [
    "### THEOREM OF TOTAL PROBABILITY (convolution)\n",
    "    \n",
    "    P(Xi)t = E(j) P(Xj)t-1 * P(Xi|Xj)\n",
    "    \n",
    "    P(A) = E(B) P(A|B) * P(B)"
   ]
  },
  {
   "cell_type": "markdown",
   "metadata": {},
   "source": [
    "### COIN ~ T, H\n",
    "### P(T) = P(H) = 1/2\n",
    "\n",
    "    T -> accept\n",
    "    H -> flip again, accept\n",
    "    \n",
    "    p(H2) = ??\n",
    "\n",
    "### Probability of heads in step 2 =\n",
    "\n",
    "### Probability of head in step two is =\n",
    "       \n",
    "           probability of heads in step two conditional\n",
    "           on heads in step one times probability of\n",
    "           heads in one plus probability of heads in step\n",
    "           two given a tail in step one times the\n",
    "           probability of tails in step one\n",
    "\n",
    "    p(H2) = p(H2|H1) * P(H1) + P(H2|T1) * P(T1)\n",
    "    \n",
    "          = 1 / 4"
   ]
  },
  {
   "cell_type": "markdown",
   "metadata": {},
   "source": [
    "### Fair coin p(H) = 0.5\n",
    "### Loaded coin p(H) = 0.1\n",
    "\n",
    "#### Grab with 50% change, flip it, observe H\n",
    "#### p(fair) = ???"
   ]
  },
  {
   "cell_type": "markdown",
   "metadata": {},
   "source": [
    "    pbar(F|H) = p(H|F) * P(F) = 0.5 * 0.5\n",
    "    \n",
    "    pbar(nF|H) = p(H|nF) * p(nF) = 0.1 * 0.5\n",
    "    \n",
    "    alpha = 0.25 + 0.05 = 0.3\n",
    "    \n",
    "    p(fair) = normalize pbar(F|H)\n",
    "    \n",
    "    p(fair) = 0.25 / 0.3 = 0.833"
   ]
  },
  {
   "cell_type": "markdown",
   "metadata": {
    "collapsed": true
   },
   "source": [
    "### Problem set 1\n",
    "\n",
    "#### Question 1"
   ]
  },
  {
   "cell_type": "markdown",
   "metadata": {},
   "source": [
    "#### If probability of X = 0.2 then probability of not X = 0.8\n",
    "    P(X) = 0.2\n",
    "    P(nX) = 0.8\n",
    "    \n",
    "#### If probability of X = 0.2 and probability of Y = 0.2 and if X/Y are independent events the probability of X and Y, P(X, Y) is 0.02 * 0.02 = 0.04 (independent probabilities are multiplied)\n",
    "   \n",
    "    P(X) = 0.2\n",
    "    P(Y) = 0.2 [X/Y independent]\n",
    "    P(X, Y) = 0.2 * 0.2 = 0.04\n",
    "    \n",
    "#### If probability of X = 0.2, and probability of Y given X = 0.6, and probability of Y given not X = 0.6, the probability of Y is 0.6, because not matter value of X, Y has the same probability\n",
    "    P(X) = 0.2\n",
    "    P(nX) = 0.8\n",
    "    P(Y|X) = 0.6\n",
    "    P(Y|nX) = 0.6\n",
    "    P(Y) = 0.6\n",
    "    \n",
    "    Bayes rule proof:  p(Z) = E(i) P(Z|Xi) * P(Xi)\n",
    "    P(Y) = P(Y|X) * P(X) + P(Y|nX) * P(nX)\n",
    "    P(Y) = 0.6 * 0.2 + 0.6 * 0.8 = 0.6"
   ]
  },
  {
   "cell_type": "markdown",
   "metadata": {},
   "source": [
    "#### Robot in 2D has an x coordinate, y coordinate and theta (heading)\n",
    "\n",
    "#### Robot in 3D has an x coordinate, y coordinate, z coordinate and 3 rotational angles (roll, pitch and yaw)\n",
    "\n",
    "#### Increase in dimensions results in exponential increase in number of variables"
   ]
  },
  {
   "cell_type": "markdown",
   "metadata": {},
   "source": [
    "### Quenstion 2"
   ]
  },
  {
   "cell_type": "markdown",
   "metadata": {},
   "source": [
    "### Bayes rule:\n",
    "\n",
    "    P(A|B) = P(B|A) * P(A) / P(B)\n",
    "    \n",
    "    P(F) = 0.001\n",
    "    P(nF) = 0.999\n",
    "    B = Neighbour says \"it burns\"\n",
    "    P(B) = 0.9 \"Burning\"\n",
    "    P(nB) = 0.1 \"Not burning\"\n",
    "    \n",
    "#### Probability of neighbour saying there is a fire and there actually being a fire times the probability of a fire occuring\n",
    "    pbar(F|B) = p(B|F) * P(F)\n",
    "    pbar(F|B) = 0.9 * 0.001 = 0.0009\n",
    "\n",
    "#### Probability of neighbour saying there is a fire and there not being a fire times the probability of a fire not occuring\n",
    "    pbar(nF|B) = p(B|nF) * p(nF)\n",
    "    pbar(nF|B) = 0.1 * 0.999 = 0.0999\n",
    "    \n",
    "#### Normalizer\n",
    "    1 / (sum of non-normalized posterior probabilities)\n",
    "    \n",
    "    1 / (0.0009 + 0.0999) = 9.9206\n",
    "    \n",
    "#### Normalized posterior probabilities (note that multipling by 1/normalizer is the same as simply dividing by normalizer\n",
    "\n",
    "#### Probability of neighbour saying there is a fire and there actually being a fire\n",
    "    \n",
    "    P(F|B) = 0.0009 * 9.9206 =   0.00892\n",
    "    \n",
    "#### Probability of neighbour saying there is a fire and there not being a fire\n",
    "    \n",
    "    P(nF|B) = 0.0999 * 9.9206 = 0.99106"
   ]
  },
  {
   "cell_type": "markdown",
   "metadata": {},
   "source": [
    "### Localization program (hard)\n",
    "\n",
    "    "
   ]
  },
  {
   "cell_type": "code",
   "execution_count": 102,
   "metadata": {
    "collapsed": true
   },
   "outputs": [],
   "source": [
    "# nice solution from:\n",
    "# https://github.com/jeremy-shannon/udacity-AI-for-robotics/blob/master/1%20-%20Localization/localization.py"
   ]
  },
  {
   "cell_type": "code",
   "execution_count": 103,
   "metadata": {
    "collapsed": false
   },
   "outputs": [],
   "source": [
    "sensor_right = 0.7\n",
    "sensor_wrong = 1.0 - sensor_right\n",
    "p_move = 0.8\n",
    "\n",
    "# Motion failure\n",
    "p_stay = 1.0 - p_move\n",
    "\n",
    "colors = [['R','G','G','R','R'],\n",
    "          ['R','R','G','R','R'],\n",
    "          ['R','R','G','G','R'],\n",
    "          ['R','R','R','R','R']]\n",
    "\n",
    "measurements = ['G','G','G','G','G']\n",
    "\n",
    "motions = [[0,0],[0,1],[1,0],[1,0],[0,1]]"
   ]
  },
  {
   "cell_type": "code",
   "execution_count": 104,
   "metadata": {
    "collapsed": true
   },
   "outputs": [],
   "source": [
    "def localize(colors,measurements,motions,sensor_right,p_move):\n",
    "    # initializes p to a uniform distribution over a grid of the same dimensions as colors\n",
    "    pinit = 1.0 / float(len(colors)) / float(len(colors[0]))\n",
    "    p = [[pinit for row in range(len(colors[0]))] for col in range(len(colors))]\n",
    "    \n",
    "    # >>> Insert your code here <<<\n",
    "    for i in range(len(measurements)):\n",
    "        p = move(p, motions[i], p_move, colors)\n",
    "        p = sense(p, measurements[i], sensor_right, colors)\n",
    "    return p"
   ]
  },
  {
   "cell_type": "code",
   "execution_count": 105,
   "metadata": {
    "collapsed": true
   },
   "outputs": [],
   "source": [
    "def sense(p, Z, pHit, colors):\n",
    "    pMiss = 1. - pHit\n",
    "    q = [[0 for row in range(len(colors[0]))] for col in range(len(colors))]\n",
    "    for x in range(len(p[0])):\n",
    "        for y in range(len(p)):\n",
    "            hit = (Z == colors[y][x]) \n",
    "            q[y][x] = (p[y][x] * (hit * pHit + (1-hit) * pMiss))\n",
    "    s = sum(map(sum,q))\n",
    "    for x in range(len(q[0])):\n",
    "        for y in range(len(q)):\n",
    "            q[y][x] = q[y][x] / s\n",
    "    return q"
   ]
  },
  {
   "cell_type": "code",
   "execution_count": 106,
   "metadata": {
    "collapsed": true
   },
   "outputs": [],
   "source": [
    "def move(p, U, p_move, colors):\n",
    "    p_stay = 1. - p_move\n",
    "    q = [[0 for row in range(len(colors[0]))] for col in range(len(colors))]\n",
    "    for x in range(len(q[0])):\n",
    "        for y in range(len(q)):\n",
    "            s = p_move * p[(y-U[0]) % len(p)][(x-U[1]) % len(p[0])]\n",
    "            s += p_stay * p[y][x]\n",
    "            q[y][x] = s\n",
    "    return q"
   ]
  },
  {
   "cell_type": "code",
   "execution_count": 107,
   "metadata": {
    "collapsed": false
   },
   "outputs": [],
   "source": [
    "def show(p):\n",
    "    rows = ['[' + ','.join(map(lambda x: '{0:.5f}'.format(x),r)) + ']' for r in p]\n",
    "    print('[' + ',\\n '.join(rows) + ']')"
   ]
  },
  {
   "cell_type": "code",
   "execution_count": 108,
   "metadata": {
    "collapsed": false
   },
   "outputs": [],
   "source": [
    "p = localize(colors,measurements,motions,sensor_right = 0.7, p_move = 0.8)"
   ]
  },
  {
   "cell_type": "code",
   "execution_count": 109,
   "metadata": {
    "collapsed": false
   },
   "outputs": [
    {
     "name": "stdout",
     "output_type": "stream",
     "text": [
      "[[0.01106,0.02464,0.06800,0.04472,0.02465],\n",
      " [0.00715,0.01017,0.08697,0.07988,0.00935],\n",
      " [0.00740,0.00894,0.11273,0.35351,0.04066],\n",
      " [0.00911,0.00715,0.01435,0.04313,0.03643]]\n"
     ]
    }
   ],
   "source": [
    "show(p)"
   ]
  },
  {
   "cell_type": "code",
   "execution_count": null,
   "metadata": {
    "collapsed": true
   },
   "outputs": [],
   "source": []
  }
 ],
 "metadata": {
  "kernelspec": {
   "display_name": "Python [default]",
   "language": "python",
   "name": "python3"
  },
  "language_info": {
   "codemirror_mode": {
    "name": "ipython",
    "version": 3
   },
   "file_extension": ".py",
   "mimetype": "text/x-python",
   "name": "python",
   "nbconvert_exporter": "python",
   "pygments_lexer": "ipython3",
   "version": "3.5.2"
  }
 },
 "nbformat": 4,
 "nbformat_minor": 2
}
